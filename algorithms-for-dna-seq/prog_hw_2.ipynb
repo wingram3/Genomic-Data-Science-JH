{
 "cells": [
  {
   "cell_type": "code",
   "execution_count": 25,
   "id": "bc94f639-8ecc-41e9-895a-6bd4118c97fe",
   "metadata": {},
   "outputs": [],
   "source": [
    "import bm_preproc\n",
    "from bm_preproc import BoyerMoore\n",
    "import bisect"
   ]
  },
  {
   "cell_type": "code",
   "execution_count": 26,
   "id": "3e9c0bc2-ddd7-4b36-bac9-6a200ffd4a42",
   "metadata": {},
   "outputs": [],
   "source": [
    "def readGenome(filename):\n",
    "    \"\"\" Read in the genome from the input FASTA file \"\"\"\n",
    "    genome = ''\n",
    "    with open(filename, 'r') as f:\n",
    "        for line in f:\n",
    "            # ignore header line with genome information\n",
    "            if not line[0] == '>':\n",
    "                genome += line.rstrip()\n",
    "    return genome"
   ]
  },
  {
   "cell_type": "code",
   "execution_count": 27,
   "id": "d86d3e67-b1c2-44fe-a593-12617301c5bd",
   "metadata": {},
   "outputs": [],
   "source": [
    "def bm_with_counts(p, p_bm, t):\n",
    "    \"\"\" Do Boyer-Moore matching. p=pattern, t=text,\n",
    "        p_bm=BoyerMoore object for p. Count the number of\n",
    "        alignments and character comparisons\"\"\"\n",
    "    i = 0\n",
    "    occurrences = []\n",
    "    num_alignments = 0\n",
    "    num_char_comps = 0\n",
    "    while i < len(t) - len(p) + 1:\n",
    "        shift = 1\n",
    "        mismatched = False\n",
    "        for j in range(len(p)-1, -1, -1):\n",
    "            num_char_comps += 1\n",
    "            if p[j] != t[i+j]:\n",
    "                skip_bc = p_bm.bad_character_rule(j, t[i+j])\n",
    "                skip_gs = p_bm.good_suffix_rule(j)\n",
    "                shift = max(shift, skip_bc, skip_gs)\n",
    "                mismatched = True\n",
    "                break\n",
    "        if not mismatched:\n",
    "            occurrences.append(i)\n",
    "            skip_gs = p_bm.match_skip()\n",
    "            shift = max(shift, skip_gs)\n",
    "        i += shift\n",
    "        num_alignments += 1\n",
    "    return occurrences, num_alignments, num_char_comps"
   ]
  },
  {
   "cell_type": "code",
   "execution_count": 28,
   "id": "2147d4a0-c06c-4216-91ef-b25dd29c5f20",
   "metadata": {},
   "outputs": [
    {
     "name": "stdout",
     "output_type": "stream",
     "text": [
      "[56922] 127974 165191\n"
     ]
    }
   ],
   "source": [
    "\"\"\" Question 2. How many character comparisons does the naive exact matching algorithm \n",
    "try when matching the string GGCGCGGTGGCTCACGCCTGTAATCCCAGCACTTTGGGAGGCCGAGG to the excerpt \n",
    "of human chromosome 1?  \"\"\"\n",
    "\n",
    "\"\"\" Question 3. How many alignments does Boyer-Moore try when matching the string \n",
    "GGCGCGGTGGCTCACGCCTGTAATCCCAGCACTTTGGGAGGCCGAGG to the excerpt of human chromosome 1?  \"\"\"\n",
    "\n",
    "p = 'GGCGCGGTGGCTCACGCCTGTAATCCCAGCACTTTGGGAGGCCGAGG'\n",
    "t = readGenome('chr1.GRCh38.excerpt.fasta')\n",
    "dna_alphabet = 'ACGT'\n",
    "p_bm = BoyerMoore(p, dna_alphabet)\n",
    "occurrences, num_alignments, num_character_comparisons = bm_with_counts(p, p_bm, t)\n",
    "print(occurrences, num_alignments, num_character_comparisons)"
   ]
  },
  {
   "cell_type": "code",
   "execution_count": 29,
   "id": "7459a391-dc49-489b-b4aa-5cbbc117b1c8",
   "metadata": {},
   "outputs": [],
   "source": [
    "def naive_with_counts(p, t):\n",
    "    \"\"\" Naive exact matching algorithm. Count the number\n",
    "        of alignments and character comparisons\"\"\"\n",
    "    occurrences = []\n",
    "    num_alignments = 0\n",
    "    num_char_comps = 0\n",
    "    for i in range(len(t) - len(p) + 1):  \n",
    "        num_alignments += 1\n",
    "        match = True\n",
    "        for j in range(len(p)):\n",
    "            num_char_comps += 1\n",
    "            if t[i+j] != p[j]:\n",
    "                match = False\n",
    "                break\n",
    "        if match:\n",
    "            occurrences.append(i)  \n",
    "    return occurrences, num_alignments, num_char_comps"
   ]
  },
  {
   "cell_type": "code",
   "execution_count": 30,
   "id": "cabf8e02-87b0-40de-b8c0-cc35bd9c5fa7",
   "metadata": {},
   "outputs": [
    {
     "name": "stdout",
     "output_type": "stream",
     "text": [
      "[56922] 799954 984143\n"
     ]
    }
   ],
   "source": [
    "\"\"\" Question 1. How many alignments does the naive exact matching algorithm try when matching the string \n",
    "GGCGCGGTGGCTCACGCCTGTAATCCCAGCACTTTGGGAGGCCGAGG to the excerpt of human chromosome 1? \"\"\"\n",
    "\n",
    "p = 'GGCGCGGTGGCTCACGCCTGTAATCCCAGCACTTTGGGAGGCCGAGG'\n",
    "t = readGenome('chr1.GRCh38.excerpt.fasta')\n",
    "occurrences, num_alignments, num_character_comparisons = naive_with_counts(p, t)\n",
    "print(occurrences, num_alignments, num_character_comparisons)"
   ]
  },
  {
   "cell_type": "code",
   "execution_count": 31,
   "id": "a3e09f90-a8ff-44c8-9708-ba3a6e931b9f",
   "metadata": {},
   "outputs": [],
   "source": [
    "class Index(object):\n",
    "    def __init__(self, t, k):\n",
    "        ''' Create index from all substrings of size 'length' '''\n",
    "        self.k = k  # k-mer length (k)\n",
    "        self.index = []\n",
    "        for i in range(len(t) - k + 1):  # for each k-mer\n",
    "            self.index.append((t[i:i+k], i))  # add (k-mer, offset) pair\n",
    "        self.index.sort()  # alphabetize by k-mer\n",
    "    \n",
    "    def query(self, p):\n",
    "        ''' Return index hits for first k-mer of P '''\n",
    "        kmer = p[:self.k]  # query with first k-mer\n",
    "        i = bisect.bisect_left(self.index, (kmer, -1))  # binary search\n",
    "        hits = []\n",
    "        while i < len(self.index):  # collect matching index entries\n",
    "            if self.index[i][0] != kmer:\n",
    "                break\n",
    "            hits.append(self.index[i][1])\n",
    "            i += 1\n",
    "        return hits"
   ]
  },
  {
   "cell_type": "code",
   "execution_count": 41,
   "id": "518e332d-ad70-4b91-8281-2ae319914a24",
   "metadata": {},
   "outputs": [],
   "source": [
    "\"\"\" Question 4. Write a function that, given a length-24 pattern P and given an Index object built on 8-mers, \n",
    "    finds all approximate occurrences of P within T with up to 2 mismatches. Insertions and deletions are not \n",
    "    allowed. Don't consider any reverse complements. \"\"\"\n",
    "\n",
    "def approximate_match(p, t, n):\n",
    "    segment_length = round(len(p)) // (n+1)\n",
    "    all_matches = set()\n",
    "    hits = 0\n",
    "    idx = Index(t, 8)\n",
    "    \n",
    "    for i in range(n+1):\n",
    "        start = i * segment_length\n",
    "        end = min((i+1) * segment_length, len(p))\n",
    "        matches = idx.query(p[start : end])\n",
    "        hits += len(matches)\n",
    "\n",
    "        for m in matches:\n",
    "            if m < start or m-start+len(p) > len(t):\n",
    "                continue\n",
    "\n",
    "            mismatches = 0\n",
    "            for j in range(0, start):\n",
    "                if p[j] != t[m-start+j]:\n",
    "                    mismatches += 1\n",
    "                    if mismatches > n:\n",
    "                        break\n",
    "            for j in range(end, len(p)):\n",
    "                if p[j] != t[m-start+j]:\n",
    "                    mismatches += 1\n",
    "                    if mismatches > n:\n",
    "                        break\n",
    "\n",
    "            if mismatches <= n:\n",
    "                all_matches.add(m - start)\n",
    "\n",
    "    return list(all_matches), hits "
   ]
  },
  {
   "cell_type": "code",
   "execution_count": 42,
   "id": "3094af3d-774a-4268-9949-831bc38a6f8e",
   "metadata": {},
   "outputs": [
    {
     "name": "stdout",
     "output_type": "stream",
     "text": [
      "19\n"
     ]
    }
   ],
   "source": [
    "p = 'GGCGCGGTGGCTCACGCCTGTAAT'\n",
    "t = readGenome('chr1.GRCh38.excerpt.fasta')\n",
    "all_matches, hits = approximate_match(p, t, 2)\n",
    "print(len(all_matches))"
   ]
  },
  {
   "cell_type": "code",
   "execution_count": 43,
   "id": "acb0a184-ab0c-4201-bdd1-f740b8a3cce3",
   "metadata": {},
   "outputs": [
    {
     "data": {
      "text/plain": [
       "90"
      ]
     },
     "execution_count": 43,
     "metadata": {},
     "output_type": "execute_result"
    }
   ],
   "source": [
    "\"\"\" Question 5. Using the instructions given in Question 4, how many total index hits are there when searching for occurrences of \n",
    "    GGCGCGGTGGCTCACGCCTGTAAT with up to 2 substitutions in the excerpt of human chromosome 1? \"\"\"\n",
    "\n",
    "hits"
   ]
  },
  {
   "cell_type": "code",
   "execution_count": 44,
   "id": "7808bf41-e5cb-4aee-85ed-fb63496243df",
   "metadata": {},
   "outputs": [],
   "source": [
    "\"\"\" Question 6. Write a function that, given a length-24 pattern P and given a SubseqIndex object \n",
    "    built with k = 8 and ival = 3, finds all approximate occurrences of P within T with up to 2 mismatches. \"\"\"\n",
    "\n",
    "class SubseqIndex(object):\n",
    "    \"\"\" Holds a subsequence index for a text T \"\"\"\n",
    "    \n",
    "    def __init__(self, t, k, ival):\n",
    "        \"\"\" Create index from all subsequences consisting of k characters\n",
    "            spaced ival positions apart.  E.g., SubseqIndex(\"ATAT\", 2, 2)\n",
    "            extracts (\"AA\", 0) and (\"TT\", 1). \"\"\"\n",
    "        self.k = k  # num characters per subsequence extracted\n",
    "        self.ival = ival  # space between them; 1=adjacent, 2=every other, etc\n",
    "        self.index = []\n",
    "        self.span = 1 + ival * (k - 1)\n",
    "        for i in range(len(t) - self.span + 1):  # for each subseq\n",
    "            self.index.append((t[i:i+self.span:ival], i))  # add (subseq, offset)\n",
    "        self.index.sort()  # alphabetize by subseq\n",
    "    \n",
    "    def query(self, p):\n",
    "        \"\"\" Return index hits for first subseq of p \"\"\"\n",
    "        subseq = p[:self.span:self.ival]  # query with first subseq\n",
    "        i = bisect.bisect_left(self.index, (subseq, -1))  # binary search\n",
    "        hits = []\n",
    "        while i < len(self.index):  # collect matching index entries\n",
    "            if self.index[i][0] != subseq:\n",
    "                break\n",
    "            hits.append(self.index[i][1])\n",
    "            i += 1\n",
    "        return hits"
   ]
  },
  {
   "cell_type": "code",
   "execution_count": 56,
   "id": "a391680c-e43e-4c6d-98eb-64354d98c564",
   "metadata": {},
   "outputs": [],
   "source": [
    "def approximate_match_subseq(p, t, n):\n",
    "    segment_length = round(len(p)) // (n+1)\n",
    "    all_matches = set()\n",
    "    hits = 0\n",
    "    subseq_idx = SubseqIndex(t, 8, 3)    # same as other approx. match function, only diff is SubseqIndex in place of Index\n",
    "    \n",
    "    for i in range(n+1):\n",
    "        matches = subseq_idx.query(p[i:])\n",
    "        hits += len(matches)\n",
    "\n",
    "        for m in matches:\n",
    "            if m < i or m-i+len(p) > len(t):\n",
    "                continue\n",
    "\n",
    "            mismatches = 0\n",
    "            for j in range(0, len(p)):\n",
    "                if p[j] != t[m-i+j]:\n",
    "                    mismatches += 1\n",
    "                    if mismatches > n:\n",
    "                        break\n",
    "\n",
    "            if mismatches <= n:\n",
    "                all_matches.add(m - i)\n",
    "\n",
    "    return list(all_matches), hits "
   ]
  },
  {
   "cell_type": "code",
   "execution_count": 58,
   "id": "f3170b78-1beb-4a9b-9ab1-20ee64899a85",
   "metadata": {},
   "outputs": [
    {
     "data": {
      "text/plain": [
       "79"
      ]
     },
     "execution_count": 58,
     "metadata": {},
     "output_type": "execute_result"
    }
   ],
   "source": [
    "p = 'GGCGCGGTGGCTCACGCCTGTAAT'\n",
    "t = readGenome('chr1.GRCh38.excerpt.fasta')\n",
    "_, hits = approximate_match_subseq(p, t, 2)\n",
    "hits"
   ]
  }
 ],
 "metadata": {
  "kernelspec": {
   "display_name": "Python 3 (ipykernel)",
   "language": "python",
   "name": "python3"
  },
  "language_info": {
   "codemirror_mode": {
    "name": "ipython",
    "version": 3
   },
   "file_extension": ".py",
   "mimetype": "text/x-python",
   "name": "python",
   "nbconvert_exporter": "python",
   "pygments_lexer": "ipython3",
   "version": "3.12.1"
  }
 },
 "nbformat": 4,
 "nbformat_minor": 5
}
