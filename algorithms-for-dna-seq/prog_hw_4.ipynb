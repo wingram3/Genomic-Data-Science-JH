{
 "cells": [
  {
   "cell_type": "code",
   "execution_count": 238,
   "id": "52476bbe-4628-4852-b46d-01296990e93e",
   "metadata": {},
   "outputs": [],
   "source": [
    "import itertools"
   ]
  },
  {
   "cell_type": "code",
   "execution_count": 239,
   "id": "b0f658bc-d3ee-413f-9b6d-7bb28b9335aa",
   "metadata": {},
   "outputs": [],
   "source": [
    "def overlap(a, b, min_length=1):\n",
    "    \"\"\" Return length of longest suffix of 'a' matching\n",
    "        a prefix of 'b' that is at least 'min_length'\n",
    "        characters long.  If no such overlap exists,\n",
    "        return 0. \"\"\"\n",
    "    start = 0  # start all the way at the left\n",
    "    while True:\n",
    "        start = a.find(b[:min_length], start)  # look for b's suffx in a\n",
    "        if start == -1:  # no more occurrences to right\n",
    "            return 0\n",
    "        # found occurrence; check for full suffix/prefix match\n",
    "        if b.startswith(a[start:]):\n",
    "            return len(a)-start\n",
    "        start += 1  # move just past previous match\n",
    "\n",
    "\n",
    "def scs(ss):\n",
    "    \"\"\" Returns shortest common superstring of given\n",
    "        strings, which must be the same length \"\"\"\n",
    "    shortest_sup = None\n",
    "    ss_list = []\n",
    "    \n",
    "    for ssperm in itertools.permutations(ss):\n",
    "        sup = ssperm[0]  # superstring starts as first string\n",
    "        for i in range(len(ss)-1):\n",
    "            # overlap adjacent strings A and B in the permutation\n",
    "            olen = overlap(ssperm[i], ssperm[i+1], min_length=1)\n",
    "            # add non-overlapping portion of B to superstring\n",
    "            sup += ssperm[i+1][olen:]\n",
    "        ss_list.append(sup)\n",
    "        if shortest_sup is None or len(sup) < len(shortest_sup):\n",
    "            shortest_sup = sup  # found shorter superstring\n",
    "\n",
    "    ss_list = [ss for ss in ss_list if len(ss) == len(shortest)]\n",
    "    \n",
    "    return shortest_sup, ss_list  # return shortest"
   ]
  },
  {
   "cell_type": "code",
   "execution_count": 256,
   "id": "d2d17a6a-958c-4bea-a8f3-c1719114358d",
   "metadata": {},
   "outputs": [],
   "source": [
    "\"\"\" Question 1. What is the length of the shortest common superstring of the following strings?\n",
    "    ['CCT', 'CTT', 'TGC', 'TGG', 'GAT', 'ATT'] ? \"\"\"\n",
    "\n",
    "shortest, ss_list = scs(['CCT', 'CTT', 'TGC', 'TGG', 'GAT', 'ATT'])"
   ]
  },
  {
   "cell_type": "code",
   "execution_count": 241,
   "id": "cd90d07e-2b26-495e-800e-4f398970a0d6",
   "metadata": {},
   "outputs": [
    {
     "name": "stdout",
     "output_type": "stream",
     "text": [
      "CCTTGGATTGC\n",
      "11\n"
     ]
    }
   ],
   "source": [
    "print(shortest)\n",
    "print(len(shortest))"
   ]
  },
  {
   "cell_type": "code",
   "execution_count": 257,
   "id": "538a3ef4-6d29-478f-a530-0a7bb1916e1f",
   "metadata": {},
   "outputs": [
    {
     "name": "stdout",
     "output_type": "stream",
     "text": [
      "['CCTTGGATTGC', 'TGCCTTGGATT', 'TGGATTGCCTT', 'GATTGCCTTGG']\n",
      "4\n"
     ]
    }
   ],
   "source": [
    "\"\"\" Question 2. How many different shortest common superstrings are \n",
    "    there for the input strings given in the previous question? \"\"\"\n",
    "\n",
    "print(ss_list)\n",
    "print(len(ss_list))"
   ]
  },
  {
   "cell_type": "code",
   "execution_count": 262,
   "id": "0f235adf-1467-40d3-a086-883b59a29a82",
   "metadata": {},
   "outputs": [],
   "source": [
    "\"\"\" Question 3. Assemble these reads using one of the approaches discussed, such as greedy shortest common superstring.  \n",
    "    Since there are many reads, you might consider ways to make the algorithm faster, such as the one discussed in the \n",
    "    programming assignment in the previous module. How many As are there in the full, assembled genome? \n",
    "    \n",
    "    Question 4. How many Ts are there in the full, assembled genome from the previous question? \"\"\"\n",
    "\n",
    "def readFastq(filename):\n",
    "    \"\"\" obtains all sequence reads and base qualities from a fastq file \"\"\"\n",
    "    sequences = []\n",
    "    qualities = []\n",
    "    with open(filename) as fh:\n",
    "        while True:\n",
    "            fh.readline()  # skip name line\n",
    "            seq = fh.readline().rstrip()  # read base sequence\n",
    "            fh.readline()  # skip placeholder line\n",
    "            qual = fh.readline().rstrip() # base quality line\n",
    "            if len(seq) == 0:\n",
    "                break\n",
    "            sequences.append(seq)\n",
    "            qualities.append(qual)\n",
    "    return sequences, qualities"
   ]
  },
  {
   "cell_type": "code",
   "execution_count": 259,
   "id": "dad3f063-dd6c-49f2-9926-c1e4bb40a9ac",
   "metadata": {},
   "outputs": [],
   "source": [
    "reads, _ = readFastq('ads1_week4_reads.fq')"
   ]
  },
  {
   "cell_type": "code",
   "execution_count": 260,
   "id": "3058dc1b-9a61-4fc5-b52a-023b406b9f13",
   "metadata": {},
   "outputs": [],
   "source": [
    "def get_kmers(read, k):\n",
    "    \"\"\" Get all the k-mers from a given read \"\"\"\n",
    "    kmer_set = set()\n",
    "    for i in range(0, len(read)-k+1):\n",
    "        kmer_set.add(read[i : i+k])\n",
    "    return kmer_set\n",
    "\n",
    "\n",
    "def overlap_all_pairs(reads, k, dict={}):\n",
    "    \"\"\" Find all pairs of reads that overlap by at least k bases \"\"\"\n",
    "    for read in reads:\n",
    "        kmers = get_kmers(read, k)\n",
    "        for kmer in kmers:\n",
    "            if kmer not in dict.keys():\n",
    "                dict[kmer] = set()\n",
    "            dict[kmer].add(read)\n",
    "    pairs = []\n",
    "    for head in reads:\n",
    "        suffix = head[-k:]\n",
    "        candidates = dict[suffix]\n",
    "        for tail in candidates:\n",
    "            if (not head == tail and overlap(head, tail, k)):\n",
    "                pairs.append((head, tail))\n",
    "\n",
    "    return pairs\n",
    "\n",
    "\n",
    "def pick_max_overlap(reads, k):\n",
    "    \"\"\" Pick two reads out of a list of reads and return\n",
    "        the maximal overlap \"\"\"\n",
    "    reada, readb = None, None\n",
    "    best_olen = 0\n",
    "    for a, b in itertools.permutations(reads, 2):\n",
    "        olen = overlap(a, b, min_length=k)\n",
    "        if olen > best_olen:\n",
    "            reada, readb = a, b\n",
    "            best_olen = olen\n",
    "    return reada, readb, best_olen\n",
    "\n",
    "\n",
    "def pick_max_overlap_fast(reads, k):\n",
    "    reada, readb = None, None\n",
    "    best_olen = 0\n",
    "    kmer_dict = {}\n",
    "\n",
    "    for read in reads:\n",
    "        for i in range(len(read)-k+1):\n",
    "            kmer_dict[read[i:i+k]] = set()\n",
    "\n",
    "    for read in reads:\n",
    "        for i in range(len(read)-k+1):\n",
    "            kmer_dict[read[i:i+k]].add(read)\n",
    "\n",
    "    for read in reads:\n",
    "        current_kmer_set = kmer_dict[read[-1*k:]]\n",
    "        for kmer_read in current_kmer_set:\n",
    "            if read != kmer_read:\n",
    "                olen = overlap(read, kmer_read, min_length=k)\n",
    "                if olen > best_olen:\n",
    "                    reada, readb = read, kmer_read\n",
    "                    best_olen = olen\n",
    "\n",
    "    return reada, readb, best_olen\n",
    "\n",
    "\n",
    "def greedy_scs(reads, k):\n",
    "    \"\"\" Returns shortest common superstring of given\n",
    "        strings, using greedy approach \"\"\"\n",
    "    reada, readb, olen = pick_max_overlap_fast(reads, k)\n",
    "    while olen > 0:\n",
    "        reads.remove(reada)\n",
    "        reads.remove(readb)\n",
    "        reads.append(reada + readb[olen:])\n",
    "        reada, readb, olen = pick_max_overlap_fast(reads, k)\n",
    "    return ''.join(reads)"
   ]
  },
  {
   "cell_type": "code",
   "execution_count": 261,
   "id": "9ab3dc5e-420a-4e47-8ee2-e631331298dc",
   "metadata": {},
   "outputs": [],
   "source": [
    "genome = greedy_scs(reads, 10)"
   ]
  },
  {
   "cell_type": "code",
   "execution_count": 263,
   "id": "5a26604a-d40c-41e2-a4f4-948d5c5a4868",
   "metadata": {},
   "outputs": [
    {
     "data": {
      "text/plain": [
       "15894"
      ]
     },
     "execution_count": 263,
     "metadata": {},
     "output_type": "execute_result"
    }
   ],
   "source": [
    "len(genome)"
   ]
  },
  {
   "cell_type": "code",
   "execution_count": 264,
   "id": "498855ad-8a98-42b4-aa6a-29ba47332d95",
   "metadata": {},
   "outputs": [
    {
     "data": {
      "text/plain": [
       "4633"
      ]
     },
     "execution_count": 264,
     "metadata": {},
     "output_type": "execute_result"
    }
   ],
   "source": [
    "As = 0\n",
    "for char in genome:\n",
    "    if char == 'A': As += 1\n",
    "As"
   ]
  },
  {
   "cell_type": "code",
   "execution_count": 265,
   "id": "0581767a-f058-47ed-9410-07aae6d90333",
   "metadata": {},
   "outputs": [
    {
     "data": {
      "text/plain": [
       "3723"
      ]
     },
     "execution_count": 265,
     "metadata": {},
     "output_type": "execute_result"
    }
   ],
   "source": [
    "Ts = 0\n",
    "for char in genome:\n",
    "    if char == 'T': Ts += 1\n",
    "Ts"
   ]
  }
 ],
 "metadata": {
  "kernelspec": {
   "display_name": "Python 3 (ipykernel)",
   "language": "python",
   "name": "python3"
  },
  "language_info": {
   "codemirror_mode": {
    "name": "ipython",
    "version": 3
   },
   "file_extension": ".py",
   "mimetype": "text/x-python",
   "name": "python",
   "nbconvert_exporter": "python",
   "pygments_lexer": "ipython3",
   "version": "3.12.1"
  }
 },
 "nbformat": 4,
 "nbformat_minor": 5
}
