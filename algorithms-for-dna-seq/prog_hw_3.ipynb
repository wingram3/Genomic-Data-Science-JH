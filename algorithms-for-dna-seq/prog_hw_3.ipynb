{
 "cells": [
  {
   "cell_type": "code",
   "execution_count": 2,
   "id": "4d679004-ab1c-42ef-a9fe-cfd9cbe1b504",
   "metadata": {},
   "outputs": [],
   "source": [
    "def readGenome(filename):\n",
    "    \"\"\" Read in the genome from the input FASTA file \"\"\"\n",
    "    genome = ''\n",
    "    with open(filename, 'r') as f:\n",
    "        for line in f:\n",
    "            # ignore header line with genome information\n",
    "            if not line[0] == '>':\n",
    "                genome += line.rstrip()\n",
    "    return genome"
   ]
  },
  {
   "cell_type": "code",
   "execution_count": 3,
   "id": "39ee3829-6964-45d7-a921-1bb494cd614e",
   "metadata": {},
   "outputs": [],
   "source": [
    "genome = readGenome('chr1.GRCh38.excerpt.fasta')"
   ]
  },
  {
   "cell_type": "code",
   "execution_count": 37,
   "id": "70e65f18-4fbf-4121-b37d-71f2a51c0417",
   "metadata": {},
   "outputs": [],
   "source": [
    "def editDistance(p, t):\n",
    "    # Create distance matrix\n",
    "    D = []\n",
    "    for i in range(len(p)+1):\n",
    "        D.append([0]*(len(t)+1))\n",
    "\n",
    "    # initialize first row to all zeros, and first column to 0, 1, 2, ... as for edit distance\n",
    "    for i in range(len(t) + 1):\n",
    "        D[0][i] = 0\n",
    "    for i in range(len(p) + 1):\n",
    "        D[i][0] = i\n",
    "\n",
    "    # fill in the rest of the matrix\n",
    "    for i in range(1, len(p)+1):\n",
    "        for j in range(1, len(t)+1):\n",
    "            dist_hor  = D[i][j-1] + 1\n",
    "            dist_vert = D[i-1][j] + 1\n",
    "            if p[i-1] == t[j-1]:\n",
    "                dist_diag = D[i-1][j-1]\n",
    "            else:\n",
    "                dist_diag = D[i-1][j-1] + 1\n",
    "            D[i][j] = min(dist_hor, dist_vert, dist_diag)\n",
    "\n",
    "    # return the minimum value in the bottom row, the minimum edit distance\n",
    "    return min(D[-1])\n",
    "    "
   ]
  },
  {
   "cell_type": "code",
   "execution_count": 45,
   "id": "62255f17-3be4-4052-abd6-f19c5718d698",
   "metadata": {},
   "outputs": [
    {
     "name": "stdout",
     "output_type": "stream",
     "text": [
      "3\n",
      "2\n"
     ]
    }
   ],
   "source": [
    "\"\"\" Question 1. What is the edit distance of the best match between \n",
    "    pattern GCTGATCGATCGTACG and the excerpt of human chromosome 1? \"\"\"\n",
    "\n",
    "\"\"\" Question 2. What is the edit distance of the best match between \n",
    "    pattern GATTTACCAGATTGAG and the excerpt of human chromosome 1? \"\"\"\n",
    "\n",
    "p1 = 'GCTGATCGATCGTACG'\n",
    "p2 = 'GATTTACCAGATTGAG'\n",
    "t = genome\n",
    "edit_distance1 = editDistance(p1, t)\n",
    "edit_distance2 = editDistance(p2, t)\n",
    "print(edit_distance1)\n",
    "print(edit_distance2)"
   ]
  },
  {
   "cell_type": "code",
   "execution_count": 46,
   "id": "29ee663b-c785-44cc-a17b-07e1f225a3a5",
   "metadata": {},
   "outputs": [],
   "source": [
    "def overlap(a, b, min_length=3):\n",
    "    \"\"\" Return length of longest suffix of 'a' matching\n",
    "        a prefix of 'b' that is at least 'min_length'\n",
    "        characters long.  If no such overlap exists,\n",
    "        return 0. \"\"\"\n",
    "    start = 0  # start all the way at the left\n",
    "    while True:\n",
    "        start = a.find(b[:min_length], start)  # look for b's prefix in a\n",
    "        if start == -1:  # no more occurrences to right\n",
    "            return 0\n",
    "        # found occurrence; check for full suffix/prefix match\n",
    "        if b.startswith(a[start:]):\n",
    "            return len(a)-start\n",
    "        start += 1  # move just past previous match"
   ]
  },
  {
   "cell_type": "code",
   "execution_count": 50,
   "id": "51475a9c-eacc-4889-9605-ea3f1879dd31",
   "metadata": {},
   "outputs": [],
   "source": [
    "def readFastq(filename):\n",
    "    sequences = []\n",
    "    qualities = []\n",
    "    with open(filename) as fh:\n",
    "        while True:\n",
    "            fh.readline()  # skip name line\n",
    "            seq = fh.readline().rstrip()  # read base sequence\n",
    "            fh.readline()  # skip placeholder line\n",
    "            qual = fh.readline().rstrip() # base quality line\n",
    "            if len(seq) == 0:\n",
    "                break\n",
    "            sequences.append(seq)\n",
    "            qualities.append(qual)\n",
    "    return sequences, qualities"
   ]
  },
  {
   "cell_type": "code",
   "execution_count": 61,
   "id": "fa547f1b-7971-49da-9e6b-c6bee5d08d67",
   "metadata": {},
   "outputs": [],
   "source": [
    "class Index(object):\n",
    "    def __init__(self, t, k):\n",
    "        ''' Create index from all substrings of size 'length' '''\n",
    "        self.k = k  # k-mer length (k)\n",
    "        self.index = []\n",
    "        for i in range(len(t) - k + 1):  # for each k-mer\n",
    "            self.index.append((t[i:i+k], i))  # add (k-mer, offset) pair\n",
    "        self.index.sort()  # alphabetize by k-mer\n",
    "    \n",
    "    def query(self, p):\n",
    "        ''' Return index hits for first k-mer of P '''\n",
    "        kmer = p[:self.k]  # query with first k-mer\n",
    "        i = bisect.bisect_left(self.index, (kmer, -1))  # binary search\n",
    "        hits = []\n",
    "        while i < len(self.index):  # collect matching index entries\n",
    "            if self.index[i][0] != kmer:\n",
    "                break\n",
    "            hits.append(self.index[i][1])\n",
    "            i += 1\n",
    "        return hits"
   ]
  },
  {
   "cell_type": "code",
   "execution_count": 88,
   "id": "59d94d0a-12bd-49fb-b854-0066366b4bb2",
   "metadata": {},
   "outputs": [],
   "source": [
    "sequences, _ = readFastq('ERR266411_1.for_asm.fastq')"
   ]
  },
  {
   "cell_type": "code",
   "execution_count": 146,
   "id": "5fb3a730-5520-468b-a63e-06a290517ca5",
   "metadata": {},
   "outputs": [],
   "source": [
    "\"\"\" Question 3. Download and parse the read sequences from the provided Phi-X FASTQ file. \n",
    "    Next, find all pairs of reads with an exact suffix/prefix match of length at least 30. \n",
    "    Don't overlap a read with itself; if a read has a suffix/prefix match to itself, ignore \n",
    "    that match.  Ignore reverse complements. Picture the overlap graph corresponding to the \n",
    "    overlaps just calculated.  How many edges are in the graph?  In other words, how many \n",
    "    distinct pairs of reads overlap? \"\"\"\n",
    "\n",
    "def get_kmers(read, k):\n",
    "    kmer_set = set()\n",
    "    for i in range(0, len(read)-k+1):\n",
    "        kmer_set.add(read[i : i+k])\n",
    "    return kmer_set\n",
    "\n",
    "\n",
    "def overlap_all_pairs(reads, k, dict={}):\n",
    "    for read in reads:\n",
    "        kmers = get_kmers(read, k)\n",
    "        for kmer in kmers:\n",
    "            if kmer not in dict.keys():\n",
    "                dict[kmer] = set()\n",
    "            dict[kmer].add(read)\n",
    "    pairs = []\n",
    "    for head in reads:\n",
    "        suffix = head[-k:]\n",
    "        candidates = dict[suffix]\n",
    "        for tail in candidates:\n",
    "            if (not head == tail and overlap(head, tail, k)):\n",
    "                pairs.append((head, tail))\n",
    "\n",
    "    return pairs"
   ]
  },
  {
   "cell_type": "code",
   "execution_count": 147,
   "id": "95391ca6-330c-4f12-8e7c-a39fef316e6e",
   "metadata": {},
   "outputs": [
    {
     "name": "stdout",
     "output_type": "stream",
     "text": [
      "CPU times: user 699 ms, sys: 12.2 ms, total: 711 ms\n",
      "Wall time: 710 ms\n"
     ]
    },
    {
     "data": {
      "text/plain": [
       "904746"
      ]
     },
     "execution_count": 147,
     "metadata": {},
     "output_type": "execute_result"
    }
   ],
   "source": [
    "%%time\n",
    "pairs = overlap_all_pairs(sequences, 30)\n",
    "len(pairs)"
   ]
  },
  {
   "cell_type": "code",
   "execution_count": 148,
   "id": "b51895d0-e745-43c8-9b23-7fbb042176af",
   "metadata": {},
   "outputs": [
    {
     "data": {
      "text/plain": [
       "7161"
      ]
     },
     "execution_count": 148,
     "metadata": {},
     "output_type": "execute_result"
    }
   ],
   "source": [
    "\"\"\" Question 4. Picture the overlap graph corresponding to the overlaps computed for the previous question. \n",
    "    How many nodes in this graph have at least one outgoing edge? \"\"\"\n",
    "\n",
    "len(set(pair[0] for pair in pairs))"
   ]
  }
 ],
 "metadata": {
  "kernelspec": {
   "display_name": "Python 3 (ipykernel)",
   "language": "python",
   "name": "python3"
  },
  "language_info": {
   "codemirror_mode": {
    "name": "ipython",
    "version": 3
   },
   "file_extension": ".py",
   "mimetype": "text/x-python",
   "name": "python",
   "nbconvert_exporter": "python",
   "pygments_lexer": "ipython3",
   "version": "3.12.1"
  }
 },
 "nbformat": 4,
 "nbformat_minor": 5
}
